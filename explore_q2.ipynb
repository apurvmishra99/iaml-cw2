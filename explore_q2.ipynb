{
 "cells": [
  {
   "cell_type": "code",
   "execution_count": 21,
   "metadata": {},
   "outputs": [],
   "source": [
    "import numpy as np\n",
    "import pandas as pd\n",
    "import matplotlib.pyplot as plt\n",
    "from sklearn.decomposition import PCA\n",
    "from sklearn.linear_model import LogisticRegression\n",
    "from sklearn.svm import SVC\n",
    "from sklearn.model_selection import GridSearchCV\n",
    "from sklearn.metrics import accuracy_score, confusion_matrix\n",
    "from helpers.iaml01cw2_helpers import *"
   ]
  },
  {
   "cell_type": "code",
   "execution_count": 22,
   "metadata": {},
   "outputs": [],
   "source": [
    "import pickle"
   ]
  },
  {
   "cell_type": "code",
   "execution_count": 2,
   "metadata": {},
   "outputs": [],
   "source": [
    "Xtrn, Ytrn, Xtst, Ytst = load_FashionMNIST(\"fashionMNIST/\")"
   ]
  },
  {
   "cell_type": "code",
   "execution_count": 3,
   "metadata": {},
   "outputs": [],
   "source": [
    "# Copy original data\n",
    "Xtrn_orig = Xtrn.copy()\n",
    "Xtst_orig = Xtst.copy()"
   ]
  },
  {
   "cell_type": "code",
   "execution_count": 4,
   "metadata": {},
   "outputs": [],
   "source": [
    "# Normalise dataset\n",
    "Xtrn /= 255.0\n",
    "Xtst /= 255.0\n",
    "\n",
    "Xmean = np.mean(Xtrn, axis=0)\n",
    "Xtrn_nm = Xtrn - Xmean\n",
    "Xtst_nm = Xtst - Xmean"
   ]
  },
  {
   "cell_type": "code",
   "execution_count": 5,
   "metadata": {},
   "outputs": [],
   "source": [
    "# 2.1\n",
    "# logistic_reg = LogisticRegression().fit(Xtrn_nm, Ytrn)"
   ]
  },
  {
   "cell_type": "code",
   "execution_count": 10,
   "metadata": {},
   "outputs": [],
   "source": [
    "# save the model to disk\n",
    "filename_lr = 'finalized_lr_model.sav'\n",
    "# pickle.dump(logistic_reg, open(f\"saved_models/{filename_lr}\", 'wb'))"
   ]
  },
  {
   "cell_type": "code",
   "execution_count": 11,
   "metadata": {},
   "outputs": [],
   "source": [
    "# load the model from disk\n",
    "loaded_lr_model = pickle.load(open(f\"saved_models/{filename_lr}\", 'rb'))"
   ]
  },
  {
   "cell_type": "code",
   "execution_count": 11,
   "metadata": {},
   "outputs": [],
   "source": [
    "Ytst_nm_pred = loaded_lr_model.predict(Xtst_nm)"
   ]
  },
  {
   "cell_type": "code",
   "execution_count": 12,
   "metadata": {},
   "outputs": [
    {
     "data": {
      "text/plain": [
       "0.8401"
      ]
     },
     "execution_count": 12,
     "metadata": {},
     "output_type": "execute_result"
    }
   ],
   "source": [
    "accuracy_score(Ytst, Ytst_nm_pred)"
   ]
  },
  {
   "cell_type": "code",
   "execution_count": 13,
   "metadata": {},
   "outputs": [
    {
     "data": {
      "text/plain": [
       "array([[819,   3,  15,  50,   7,   4,  89,   1,  12,   0],\n",
       "       [  5, 953,   4,  27,   5,   0,   3,   1,   2,   0],\n",
       "       [ 27,   4, 731,  11, 133,   0,  82,   2,   9,   1],\n",
       "       [ 31,  15,  14, 866,  33,   0,  37,   0,   4,   0],\n",
       "       [  0,   3, 115,  38, 760,   2,  72,   0,  10,   0],\n",
       "       [  2,   0,   0,   1,   0, 911,   0,  56,  10,  20],\n",
       "       [147,   3, 128,  46, 108,   0, 539,   0,  28,   1],\n",
       "       [  0,   0,   0,   0,   0,  32,   0, 936,   1,  31],\n",
       "       [  7,   1,   6,  11,   3,   7,  15,   5, 945,   0],\n",
       "       [  0,   0,   0,   1,   0,  15,   1,  42,   0, 941]])"
      ]
     },
     "execution_count": 13,
     "metadata": {},
     "output_type": "execute_result"
    }
   ],
   "source": [
    "confusion_matrix(Ytst, Ytst_nm_pred)"
   ]
  },
  {
   "cell_type": "code",
   "execution_count": 14,
   "metadata": {},
   "outputs": [],
   "source": [
    "# 2.2\n",
    "# svc_model = SVC(verbose=True).fit(Xtrn_nm, Ytrn)"
   ]
  },
  {
   "cell_type": "code",
   "execution_count": 18,
   "metadata": {},
   "outputs": [],
   "source": [
    "filename_svc = 'finalized_svc_model.sav'\n",
    "# pickle.dump(svc_model, open(f\"saved_models/{filename_svc}\", 'wb'))"
   ]
  },
  {
   "cell_type": "code",
   "execution_count": 19,
   "metadata": {},
   "outputs": [],
   "source": [
    "# load the model from disk\n",
    "loaded_svc_model = pickle.load(open(f\"saved_models/{filename_svc}\", 'rb'))"
   ]
  },
  {
   "cell_type": "code",
   "execution_count": null,
   "metadata": {},
   "outputs": [],
   "source": [
    "Ytst_nm_pred_svc = loaded_svc_model.predict(Xtst_nm)"
   ]
  },
  {
   "cell_type": "code",
   "execution_count": 20,
   "metadata": {},
   "outputs": [
    {
     "data": {
      "text/plain": [
       "0.8461"
      ]
     },
     "execution_count": 20,
     "metadata": {},
     "output_type": "execute_result"
    }
   ],
   "source": [
    "accuracy_score(Ytst, Ytst_nm_pred_svc)"
   ]
  },
  {
   "cell_type": "code",
   "execution_count": 21,
   "metadata": {},
   "outputs": [
    {
     "data": {
      "text/plain": [
       "array([[845,   2,   8,  51,   4,   4,  72,   0,  14,   0],\n",
       "       [  4, 951,   7,  31,   5,   0,   1,   0,   1,   0],\n",
       "       [ 15,   2, 748,  11, 137,   0,  79,   0,   8,   0],\n",
       "       [ 32,   6,  12, 881,  26,   0,  40,   0,   3,   0],\n",
       "       [  1,   0,  98,  36, 775,   0,  86,   0,   4,   0],\n",
       "       [  0,   0,   0,   1,   0, 914,   0,  57,   2,  26],\n",
       "       [185,   1, 122,  39,  95,   0, 533,   0,  25,   0],\n",
       "       [  0,   0,   0,   0,   0,  34,   0, 925,   0,  41],\n",
       "       [  3,   1,   8,   5,   2,   4,  13,   4, 959,   1],\n",
       "       [  0,   0,   0,   0,   0,  22,   0,  47,   1, 930]])"
      ]
     },
     "execution_count": 21,
     "metadata": {},
     "output_type": "execute_result"
    }
   ],
   "source": [
    "confusion_matrix(Ytst, Ytst_nm_pred_svc)"
   ]
  },
  {
   "cell_type": "code",
   "execution_count": 5,
   "metadata": {},
   "outputs": [],
   "source": [
    "# Decision boundary plots\n",
    "pca_2 = PCA(2)\n",
    "Xtrn_nm_pca = pca_2.fit_transform(Xtrn_nm)"
   ]
  },
  {
   "cell_type": "code",
   "execution_count": 6,
   "metadata": {},
   "outputs": [],
   "source": [
    "std1, std2 = np.std(Xtrn_nm_pca, axis=0)"
   ]
  },
  {
   "cell_type": "code",
   "execution_count": 17,
   "metadata": {},
   "outputs": [
    {
     "data": {
      "image/png": "[encoded data removed]",
      "text/plain": [
       "<Figure size 432x288 with 2 Axes>"
      ]
     },
     "metadata": {
      "needs_background": "light"
     },
     "output_type": "display_data"
    }
   ],
   "source": [
    "# 2.3\n",
    "x = np.arange(-5*std1, 5*std1, std1 / 10) # shape: 100 x 2\n",
    "y = np.arange(5*std2, -5*std2, -1*std2 / 10)\n",
    "xx, yy = np.meshgrid(x, y)\n",
    "\n",
    "z = np.vstack([xx.ravel(), yy.ravel()]).T # shape: 10000 x 2\n",
    "\n",
    "proj_z = pca_2.inverse_transform(z) # transfrom to 784 features\n",
    "\n",
    "Z = loaded_lr_model.predict(proj_z)\n",
    "Z = Z.reshape(xx.shape)\n",
    "plt.contourf(xx, yy, Z, cmap=plt.cm.get_cmap(\"coolwarm\", 6))\n",
    "plt.xlabel(\"Principal component 1\")\n",
    "plt.ylabel(\"Principal component 2\")\n",
    "plt.title(\"Decision regions for Logistic Regression Classifier\")\n",
    "plt.colorbar(ticks=range(10), label='class')\n",
    "plt.savefig(\"results/2_3.png\")\n",
    "plt.show()"
   ]
  },
  {
   "cell_type": "code",
   "execution_count": 20,
   "metadata": {},
   "outputs": [
    {
     "data": {
      "image/png": "[encoded data removed]",
      "text/plain": [
       "<Figure size 432x288 with 2 Axes>"
      ]
     },
     "metadata": {
      "needs_background": "light"
     },
     "output_type": "display_data"
    }
   ],
   "source": [
    "# 2.4\n",
    "x = np.arange(-5*std1, 5*std1, std1 / 10)\n",
    "y = np.arange(5*std2, -5*std2, -1*std2 / 10 )\n",
    "xx, yy = np.meshgrid(x, y)\n",
    "\n",
    "z = np.vstack([xx.ravel(), yy.ravel()]).T\n",
    "\n",
    "proj_z = pca_2.inverse_transform(z)\n",
    "\n",
    "Z = loaded_svc_model.predict(proj_z)\n",
    "Z = Z.reshape(xx.shape)\n",
    "\n",
    "plt.contourf(xx, yy, Z, cmap=plt.cm.get_cmap(\"coolwarm\"))\n",
    "plt.xlabel(\"Principal component 1\")\n",
    "plt.ylabel(\"Principal component 2\")\n",
    "plt.title(\"Decision regions for SVM Classifier\")\n",
    "plt.colorbar(ticks=range(10), label='class')\n",
    "plt.savefig(\"results/2_4.png\")\n",
    "plt.show()"
   ]
  },
  {
   "cell_type": "code",
   "execution_count": 112,
   "metadata": {},
   "outputs": [],
   "source": [
    "# 2.5\n",
    "Xsmall = None\n",
    "Ysmall = None\n",
    "\n",
    "for i in range(10):\n",
    "    mask = Ytrn == i\n",
    "    x_vals = Xtrn_nm[mask][:1000]\n",
    "    y_vals = Ytrn[mask][:1000]\n",
    "    \n",
    "    if Xsmall is None:\n",
    "        Xsmall = x_vals\n",
    "        Ysmall = y_vals\n",
    "    else:\n",
    "        Xsmall = np.concatenate((Xsmall, x_vals), axis=0)\n",
    "        Ysmall = np.concatenate((Ysmall, y_vals), axis=None)"
   ]
  },
  {
   "cell_type": "code",
   "execution_count": 144,
   "metadata": {},
   "outputs": [],
   "source": [
    "c_vals = np.logspace(-2, 3, num=10)\n",
    "params_dict = {\n",
    "    \"C\": c_vals\n",
    "}\n",
    "grid = GridSearchCV(SVC(), params_dict, return_train_score=True)"
   ]
  },
  {
   "cell_type": "code",
   "execution_count": 145,
   "metadata": {},
   "outputs": [
    {
     "data": {
      "text/plain": [
       "GridSearchCV(cv=None, error_score='raise',\n",
       "       estimator=SVC(C=1.0, cache_size=200, class_weight=None, coef0=0.0,\n",
       "  decision_function_shape='ovr', degree=3, gamma='auto', kernel='rbf',\n",
       "  max_iter=-1, probability=False, random_state=None, shrinking=True,\n",
       "  tol=0.001, verbose=False),\n",
       "       fit_params=None, iid=True, n_jobs=1,\n",
       "       param_grid={'C': array([1.00000e-02, 3.59381e-02, 1.29155e-01, 4.64159e-01, 1.66810e+00,\n",
       "       5.99484e+00, 2.15443e+01, 7.74264e+01, 2.78256e+02, 1.00000e+03])},\n",
       "       pre_dispatch='2*n_jobs', refit=True, return_train_score=True,\n",
       "       scoring=None, verbose=0)"
      ]
     },
     "execution_count": 145,
     "metadata": {},
     "output_type": "execute_result"
    }
   ],
   "source": [
    "grid.fit(Xsmall, Ysmall)"
   ]
  },
  {
   "cell_type": "code",
   "execution_count": 7,
   "metadata": {},
   "outputs": [],
   "source": [
    "filename_grid = \"gridsearchmodel.sav\"\n",
    "# pickle.dump(grid, open(filename_grid, 'wb'))"
   ]
  },
  {
   "cell_type": "code",
   "execution_count": 8,
   "metadata": {},
   "outputs": [],
   "source": [
    "# load the model from disk\n",
    "loaded_grid_model = pickle.load(open(filename_grid, 'rb'))"
   ]
  },
  {
   "cell_type": "code",
   "execution_count": 149,
   "metadata": {},
   "outputs": [],
   "source": [
    "mean_accuracies = loaded_grid_model.cv_results_[\"mean_test_score\"]"
   ]
  },
  {
   "cell_type": "code",
   "execution_count": 153,
   "metadata": {},
   "outputs": [
    {
     "data": {
      "text/plain": [
       "array([0.6482, 0.6911, 0.7367, 0.7838, 0.8197, 0.8447, 0.8565, 0.8542,\n",
       "       0.8495, 0.8406])"
      ]
     },
     "execution_count": 153,
     "metadata": {},
     "output_type": "execute_result"
    }
   ],
   "source": [
    "mean_accuracies"
   ]
  },
  {
   "cell_type": "code",
   "execution_count": 162,
   "metadata": {},
   "outputs": [
    {
     "data": {
      "image/png": "[encoded data removed]",
      "text/plain": [
       "<Figure size 432x288 with 1 Axes>"
      ]
     },
     "metadata": {
      "needs_background": "light"
     },
     "output_type": "display_data"
    }
   ],
   "source": [
    "plt.plot(c_vals, mean_accuracies, 'o-', label=\"Accuracy\")\n",
    "plt.xscale('log')\n",
    "plt.title(\"Mean classification accuracy vs regularisation parameter C\")\n",
    "plt.xlabel(\"C (Log scale)\")\n",
    "plt.ylabel(\"Mean accuracy\")\n",
    "plt.legend()\n",
    "plt.savefig(\"results/2_5.png\")\n",
    "plt.show()"
   ]
  },
  {
   "cell_type": "code",
   "execution_count": 9,
   "metadata": {},
   "outputs": [],
   "source": [
    "# 2.6\n",
    "best_C = loaded_grid_model.best_params_[\"C\"]\n",
    "improved_svc_model = SVC(C=best_C).fit(Xtrn_nm, Ytrn)"
   ]
  },
  {
   "cell_type": "code",
   "execution_count": 10,
   "metadata": {},
   "outputs": [],
   "source": [
    "filename_impr_svc = \"improvedsvc.sav\"\n",
    "pickle.dump(improved_svc_model, open(filename_impr_svc, 'wb'))"
   ]
  },
  {
   "cell_type": "code",
   "execution_count": 11,
   "metadata": {},
   "outputs": [],
   "source": [
    "# load the model from disk\n",
    "loaded_impr_svc_model = pickle.load(open(filename_impr_svc, 'rb'))"
   ]
  },
  {
   "cell_type": "code",
   "execution_count": 12,
   "metadata": {},
   "outputs": [
    {
     "data": {
      "text/plain": [
       "0.9084166666666667"
      ]
     },
     "execution_count": 12,
     "metadata": {},
     "output_type": "execute_result"
    }
   ],
   "source": [
    "loaded_impr_svc_model.score(Xtrn_nm, Ytrn)"
   ]
  },
  {
   "cell_type": "code",
   "execution_count": 13,
   "metadata": {},
   "outputs": [
    {
     "data": {
      "text/plain": [
       "0.8765"
      ]
     },
     "execution_count": 13,
     "metadata": {},
     "output_type": "execute_result"
    }
   ],
   "source": [
    "loaded_impr_svc_model.score(Xtst_nm, Ytst)"
   ]
  },
  {
   "cell_type": "code",
   "execution_count": null,
   "metadata": {},
   "outputs": [],
   "source": []
  }
 ],
 "metadata": {
  "kernelspec": {
   "display_name": "Python 3",
   "language": "python",
   "name": "python3"
  },
  "language_info": {
   "codemirror_mode": {
    "name": "ipython",
    "version": 3
   },
   "file_extension": ".py",
   "mimetype": "text/x-python",
   "name": "python",
   "nbconvert_exporter": "python",
   "pygments_lexer": "ipython3",
   "version": "3.7.7"
  }
 },
 "nbformat": 4,
 "nbformat_minor": 2
}
