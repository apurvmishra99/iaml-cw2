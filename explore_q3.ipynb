{
 "cells": [
  {
   "cell_type": "markdown",
   "metadata": {},
   "source": [
    "#### Note of thanks:\n",
    "> This coursework wouldn't have been possible without the immensely helpful [Python Data Science Handbook](https://jakevdp.github.io/PythonDataScienceHandbook/) and a bunch of stackoverflow answers that were always god sent whenever I was stuck on anything."
   ]
  },
  {
   "cell_type": "code",
   "execution_count": 1,
   "metadata": {
    "scrolled": true
   },
   "outputs": [
    {
     "name": "stderr",
     "output_type": "stream",
     "text": [
      "/afs/inf.ed.ac.uk/user/s18/s1864480/miniconda3/envs/py3iaml/lib/python3.7/site-packages/sklearn/utils/__init__.py:4: DeprecationWarning: Using or importing the ABCs from 'collections' instead of from 'collections.abc' is deprecated since Python 3.3,and in 3.9 it will stop working\n",
      "  from collections import Sequence\n"
     ]
    }
   ],
   "source": [
    "import numpy as np\n",
    "import pandas as pd\n",
    "import matplotlib.pyplot as plt\n",
    "from scipy.cluster import hierarchy\n",
    "from sklearn.cluster import KMeans\n",
    "from sklearn.decomposition import PCA\n",
    "from sklearn.metrics import pairwise_distances\n",
    "from sklearn.mixture import GaussianMixture\n",
    "from helpers.iaml01cw2_helpers import *"
   ]
  },
  {
   "cell_type": "code",
   "execution_count": 2,
   "metadata": {},
   "outputs": [],
   "source": [
    "%matplotlib inline"
   ]
  },
  {
   "cell_type": "code",
   "execution_count": 3,
   "metadata": {},
   "outputs": [],
   "source": [
    "Xtrn, Ytrn, Xtst, Ytst = load_CoVoST2(\"data/\")"
   ]
  },
  {
   "cell_type": "markdown",
   "metadata": {},
   "source": [
    "### 3.1"
   ]
  },
  {
   "cell_type": "code",
   "execution_count": 4,
   "metadata": {},
   "outputs": [
    {
     "data": {
      "text/plain": [
       "KMeans(algorithm='auto', copy_x=True, init='k-means++', max_iter=300,\n",
       "    n_clusters=22, n_init=10, n_jobs=1, precompute_distances='auto',\n",
       "    random_state=1, tol=0.0001, verbose=0)"
      ]
     },
     "execution_count": 4,
     "metadata": {},
     "output_type": "execute_result"
    }
   ],
   "source": [
    "# 3.1\n",
    "kmeans = KMeans(n_clusters=22, random_state=1)\n",
    "kmeans.fit(Xtrn)"
   ]
  },
  {
   "cell_type": "code",
   "execution_count": 5,
   "metadata": {},
   "outputs": [
    {
     "data": {
      "text/plain": [
       "38185.816951386696"
      ]
     },
     "execution_count": 5,
     "metadata": {},
     "output_type": "execute_result"
    }
   ],
   "source": [
    "kmeans.inertia_"
   ]
  },
  {
   "cell_type": "code",
   "execution_count": 6,
   "metadata": {},
   "outputs": [],
   "source": [
    "Y_kmeans = kmeans.predict(Xtrn)"
   ]
  },
  {
   "cell_type": "code",
   "execution_count": 7,
   "metadata": {
    "scrolled": true
   },
   "outputs": [
    {
     "data": {
      "text/plain": [
       "(array([ 0,  1,  2,  3,  4,  5,  6,  7,  8,  9, 10, 11, 12, 13, 14, 15, 16,\n",
       "        17, 18, 19, 20, 21], dtype=int32),\n",
       " array([1018, 1125, 1191,  890, 1162, 1332,  839,  623, 1400,  838,  659,\n",
       "        1276,  121,  152,  950, 1971, 1251,  845,  896,  930, 1065, 1466]))"
      ]
     },
     "execution_count": 7,
     "metadata": {},
     "output_type": "execute_result"
    }
   ],
   "source": [
    "np.unique(Y_kmeans, return_counts=True)"
   ]
  },
  {
   "cell_type": "code",
   "execution_count": 8,
   "metadata": {},
   "outputs": [
    {
     "data": {
      "text/plain": [
       "(array([ 0,  1,  2,  3,  4,  5,  6,  7,  8,  9, 10, 11, 12, 13, 14, 15, 16,\n",
       "        17, 18, 19, 20, 21], dtype=int32),\n",
       " array([1018, 1125, 1191,  890, 1162, 1332,  839,  623, 1400,  838,  659,\n",
       "        1276,  121,  152,  950, 1971, 1251,  845,  896,  930, 1065, 1466]))"
      ]
     },
     "execution_count": 8,
     "metadata": {},
     "output_type": "execute_result"
    }
   ],
   "source": [
    "np.unique(kmeans.labels_, return_counts=True)"
   ]
  },
  {
   "cell_type": "code",
   "execution_count": 9,
   "metadata": {},
   "outputs": [],
   "source": [
    "clusters = kmeans.cluster_centers_"
   ]
  },
  {
   "cell_type": "code",
   "execution_count": 10,
   "metadata": {},
   "outputs": [],
   "source": [
    "num_samples = {}\n",
    "sum_squared_dists = {}\n",
    "for i in range(22):\n",
    "    mask = Y_kmeans == i\n",
    "    center_i = Xtrn[mask]\n",
    "    num_samples[i] = center_i.shape[0]\n",
    "    sq_dists = pairwise_distances(center_i, clusters[i].reshape(1, -1), metric=\"sqeuclidean\")\n",
    "    sq_dists_sum = np.sum(sq_dists, axis=0)[0]\n",
    "    sum_squared_dists[i] = sq_dists_sum"
   ]
  },
  {
   "cell_type": "code",
   "execution_count": 11,
   "metadata": {},
   "outputs": [
    {
     "data": {
      "text/plain": [
       "{0: 1018,\n",
       " 1: 1125,\n",
       " 2: 1191,\n",
       " 3: 890,\n",
       " 4: 1162,\n",
       " 5: 1332,\n",
       " 6: 839,\n",
       " 7: 623,\n",
       " 8: 1400,\n",
       " 9: 838,\n",
       " 10: 659,\n",
       " 11: 1276,\n",
       " 12: 121,\n",
       " 13: 152,\n",
       " 14: 950,\n",
       " 15: 1971,\n",
       " 16: 1251,\n",
       " 17: 845,\n",
       " 18: 896,\n",
       " 19: 930,\n",
       " 20: 1065,\n",
       " 21: 1466}"
      ]
     },
     "execution_count": 11,
     "metadata": {},
     "output_type": "execute_result"
    }
   ],
   "source": [
    "num_samples"
   ]
  },
  {
   "cell_type": "code",
   "execution_count": 12,
   "metadata": {},
   "outputs": [
    {
     "data": {
      "text/plain": [
       "{0: 1498.4173819777973,\n",
       " 1: 1777.3153029980065,\n",
       " 2: 1943.0888957499178,\n",
       " 3: 1773.2008295957744,\n",
       " 4: 1863.4600778004778,\n",
       " 5: 2012.6211451482375,\n",
       " 6: 1755.9036361440876,\n",
       " 7: 1691.9352450283523,\n",
       " 8: 2052.789015669353,\n",
       " 9: 1826.7299530146934,\n",
       " 10: 890.1189014296021,\n",
       " 11: 1941.567439527908,\n",
       " 12: 354.0695374248477,\n",
       " 13: 423.9658879805713,\n",
       " 14: 1870.2904136113045,\n",
       " 15: 2585.8167018553136,\n",
       " 16: 2236.596354947277,\n",
       " 17: 1913.7753659679706,\n",
       " 18: 1443.4745381632933,\n",
       " 19: 2076.08024534267,\n",
       " 20: 2021.5582176366174,\n",
       " 21: 2233.0418601033125}"
      ]
     },
     "execution_count": 12,
     "metadata": {},
     "output_type": "execute_result"
    }
   ],
   "source": [
    "sum_squared_dists"
   ]
  },
  {
   "cell_type": "code",
   "execution_count": 13,
   "metadata": {},
   "outputs": [
    {
     "data": {
      "text/plain": [
       "38185.81694711739"
      ]
     },
     "execution_count": 13,
     "metadata": {},
     "output_type": "execute_result"
    }
   ],
   "source": [
    "sum(sum_squared_dists.values())"
   ]
  },
  {
   "cell_type": "markdown",
   "metadata": {},
   "source": [
    "### 3.2"
   ]
  },
  {
   "cell_type": "code",
   "execution_count": 14,
   "metadata": {},
   "outputs": [],
   "source": [
    "# 3.2\n",
    "pca_2 = PCA(n_components=2).fit(Xtrn)"
   ]
  },
  {
   "cell_type": "code",
   "execution_count": 15,
   "metadata": {},
   "outputs": [],
   "source": [
    "mean_vecs = np.zeros_like(clusters)\n",
    "for i in range(22):\n",
    "    mask = Ytrn == i\n",
    "    lang_i = Xtrn[mask]\n",
    "    mean_lang_i = lang_i.mean(axis=0)\n",
    "    mean_vecs[i] = mean_lang_i"
   ]
  },
  {
   "cell_type": "code",
   "execution_count": 16,
   "metadata": {},
   "outputs": [],
   "source": [
    "mean_vecs_transformed = pca_2.transform(mean_vecs)"
   ]
  },
  {
   "cell_type": "code",
   "execution_count": 17,
   "metadata": {},
   "outputs": [
    {
     "data": {
      "text/plain": [
       "array([[-0.77407557,  0.08716789],\n",
       "       [ 0.15398635,  0.17686322],\n",
       "       [ 0.01303709, -0.01052564],\n",
       "       [ 0.55069643,  0.00823825],\n",
       "       [-0.27273902,  0.06936879],\n",
       "       [-0.05177649,  0.24727397],\n",
       "       [-0.5540023 , -0.11999342],\n",
       "       [-0.12691925, -0.164469  ],\n",
       "       [ 0.24007945,  0.00542255],\n",
       "       [-0.22838153, -0.27274853],\n",
       "       [ 0.19038002,  0.14132872],\n",
       "       [ 0.43738428,  0.04983695],\n",
       "       [ 0.9449271 , -0.12326142],\n",
       "       [-0.415758  , -0.08047374],\n",
       "       [-0.04823245,  0.21420541],\n",
       "       [-0.14780822, -0.11582016],\n",
       "       [ 0.7979026 , -0.33142462],\n",
       "       [-0.33703187,  0.05063618],\n",
       "       [ 0.14669523,  0.6614706 ],\n",
       "       [-0.4637447 , -0.1443706 ],\n",
       "       [ 0.0609499 , -0.31680307],\n",
       "       [-0.11025871, -0.03146772]], dtype=float32)"
      ]
     },
     "execution_count": 17,
     "metadata": {},
     "output_type": "execute_result"
    }
   ],
   "source": [
    "mean_vecs_transformed"
   ]
  },
  {
   "cell_type": "code",
   "execution_count": 18,
   "metadata": {},
   "outputs": [],
   "source": [
    "clusters_transformed = pca_2.transform(clusters)"
   ]
  },
  {
   "cell_type": "code",
   "execution_count": 19,
   "metadata": {},
   "outputs": [
    {
     "data": {
      "image/png": "[encoded data removed]",
      "text/plain": [
       "<Figure size 1008x720 with 1 Axes>"
      ]
     },
     "metadata": {
      "needs_background": "light"
     },
     "output_type": "display_data"
    }
   ],
   "source": [
    "plt.figure(figsize=(14, 10))\n",
    "plt.plot(mean_vecs_transformed[:, 0], mean_vecs_transformed[:, 1], '^', label=\"mean vectors\")\n",
    "plt.plot(clusters_transformed[:, 0], clusters_transformed[:, 1], 'o', label=\"cluster centers\")\n",
    "\n",
    "for i in range(22):\n",
    "    plt.annotate(i, xy=(mean_vecs_transformed[i]), xytext=(3, 3), textcoords='offset points', ha='right', va='bottom')\n",
    "    \n",
    "plt.xlabel(\"Principal component 1\")\n",
    "plt.ylabel(\"Principal componnet 2\")\n",
    "plt.title(\"Language Means and Cluster Centres (K=22)\")\n",
    "plt.legend()\n",
    "plt.savefig(\"results/3_2.png\")\n",
    "plt.show()"
   ]
  },
  {
   "cell_type": "markdown",
   "metadata": {},
   "source": [
    "### 3.3"
   ]
  },
  {
   "cell_type": "code",
   "execution_count": 20,
   "metadata": {},
   "outputs": [
    {
     "data": {
      "image/png": "[encoded data removed]",
      "text/plain": [
       "<Figure size 468x648 with 1 Axes>"
      ]
     },
     "metadata": {
      "needs_background": "light"
     },
     "output_type": "display_data"
    }
   ],
   "source": [
    "# 3.3\n",
    "Z = hierarchy.linkage(mean_vecs, method=\"ward\")\n",
    "labels = range(22)\n",
    "plt.figure(figsize=(6.5, 9))\n",
    "hierarchy.dendrogram(Z, labels=labels, distance_sort=\"descending\", orientation=\"right\", show_leaf_counts=True)\n",
    "plt.ylabel(\"Languages\")\n",
    "plt.xlabel(\"Distance\")\n",
    "plt.title(\"Language Mean Clustering - Hierarchial Dendrogram\")\n",
    "plt.savefig(\"results/3_3.png\")\n",
    "plt.show()"
   ]
  },
  {
   "cell_type": "markdown",
   "metadata": {},
   "source": [
    "### 3.4"
   ]
  },
  {
   "cell_type": "code",
   "execution_count": 21,
   "metadata": {},
   "outputs": [],
   "source": [
    "# 3.4\n",
    "vecs = None\n",
    "for k in range(22):\n",
    "    kmeans_k = KMeans(n_clusters=3, random_state=1).fit(Xtrn[Ytrn == k])\n",
    "    clusters_k = kmeans_k.cluster_centers_\n",
    "    if vecs is None:\n",
    "        vecs = clusters_k\n",
    "    else:\n",
    "        vecs = np.concatenate((vecs, clusters_k), axis=0)"
   ]
  },
  {
   "cell_type": "code",
   "execution_count": 24,
   "metadata": {},
   "outputs": [],
   "source": [
    "vecs_ = np.array([KMeans(3, random_state=1).fit(Xtrn[Ytrn == i]).cluster_centers_ for i in range(22)])"
   ]
  },
  {
   "cell_type": "code",
   "execution_count": 28,
   "metadata": {},
   "outputs": [],
   "source": [
    "vecs_ = np.concatenate(vecs_, axis=1)"
   ]
  },
  {
   "cell_type": "code",
   "execution_count": 29,
   "metadata": {},
   "outputs": [
    {
     "data": {
      "text/plain": [
       "(3, 572)"
      ]
     },
     "execution_count": 29,
     "metadata": {},
     "output_type": "execute_result"
    }
   ],
   "source": [
    "vecs_.shape"
   ]
  },
  {
   "cell_type": "code",
   "execution_count": 22,
   "metadata": {},
   "outputs": [
    {
     "data": {
      "image/png": "[encoded data removed]",
      "text/plain": [
       "<Figure size 504x720 with 1 Axes>"
      ]
     },
     "metadata": {
      "needs_background": "light"
     },
     "output_type": "display_data"
    },
    {
     "data": {
      "image/png": "[encoded data removed]",
      "text/plain": [
       "<Figure size 504x720 with 1 Axes>"
      ]
     },
     "metadata": {
      "needs_background": "light"
     },
     "output_type": "display_data"
    },
    {
     "data": {
      "image/png": "[encoded data removed]",
      "text/plain": [
       "<Figure size 504x720 with 1 Axes>"
      ]
     },
     "metadata": {
      "needs_background": "light"
     },
     "output_type": "display_data"
    }
   ],
   "source": [
    "for method in [\"ward\", \"single\", \"complete\"]:\n",
    "    plt.figure(figsize=(7, 10))\n",
    "    Z = hierarchy.linkage(vecs, method=method)\n",
    "    labels = str(range(22))\n",
    "    hierarchy.dendrogram(Z, distance_sort=\"descending\", orientation=\"right\", show_leaf_counts=True)\n",
    "    plt.title(f\"Clustering using {method} linkage\")\n",
    "    plt.ylabel(\"Languages\")\n",
    "    plt.xlabel(\"Distance\")\n",
    "    plt.savefig(f\"results/3_4_{method}.png\")\n",
    "    plt.show()"
   ]
  },
  {
   "cell_type": "markdown",
   "metadata": {},
   "source": [
    "### 3.5"
   ]
  },
  {
   "cell_type": "code",
   "execution_count": 23,
   "metadata": {},
   "outputs": [],
   "source": [
    "# 3.5\n",
    "language_0 = Xtrn[Ytrn == 0]\n",
    "language_0_test = Xtst[Ytst == 0]"
   ]
  },
  {
   "cell_type": "code",
   "execution_count": 24,
   "metadata": {},
   "outputs": [],
   "source": [
    "log_likelihoods_ = []\n",
    "cv_types = [\"diag\", \"full\"]\n",
    "n_components = np.array([1, 3, 5, 10, 15])\n",
    "for n in n_components:\n",
    "    for cv_type in cv_types:\n",
    "        gmm_n = GaussianMixture(n_components=n, covariance_type=cv_type, random_state=1).fit(language_0)\n",
    "        log_likelihoods_.extend([gmm_n.score(language_0), gmm_n.score(language_0_test)])\n",
    "    "
   ]
  },
  {
   "cell_type": "code",
   "execution_count": 25,
   "metadata": {},
   "outputs": [
    {
     "data": {
      "text/plain": [
       "[14.280416117561785,\n",
       " 13.842923924145325,\n",
       " 16.39360043614829,\n",
       " 15.810511543142642,\n",
       " 15.398429743214338,\n",
       " 15.040748265063943,\n",
       " 18.08600493814516,\n",
       " 17.066076255632257,\n",
       " 16.01038876179638,\n",
       " 15.908546100076155,\n",
       " 19.03572395191873,\n",
       " 16.48942646374156,\n",
       " 16.916504763220768,\n",
       " 16.567565210557202,\n",
       " 21.062020341621178,\n",
       " 14.621763240167148,\n",
       " 17.504626881181647,\n",
       " 16.901679478390964,\n",
       " 22.78602299592489,\n",
       " 11.847976289631205]"
      ]
     },
     "execution_count": 25,
     "metadata": {},
     "output_type": "execute_result"
    }
   ],
   "source": [
    "log_likelihoods_"
   ]
  },
  {
   "cell_type": "code",
   "execution_count": 26,
   "metadata": {},
   "outputs": [
    {
     "data": {
      "image/png": "[encoded data removed]",
      "text/plain": [
       "<Figure size 720x432 with 1 Axes>"
      ]
     },
     "metadata": {
      "needs_background": "light"
     },
     "output_type": "display_data"
    }
   ],
   "source": [
    "w = 0.3\n",
    "xi = np.arange(len(n_components))\n",
    "y = log_likelihoods_[0::4]\n",
    "z = log_likelihoods_[1::4]\n",
    "k = log_likelihoods_[2::4]\n",
    "l = log_likelihoods_[3::4]\n",
    "\n",
    "plt.figure(figsize=(10, 6))\n",
    "\n",
    "plt.bar(xi - w, y, width=w, color='b', align='center', edgecolor=\"k\", label= \"Diag Cov - Train\")\n",
    "plt.bar(xi - w, z, width=w, color='r', align='center', edgecolor=\"k\", label= \"Diag Cov - Test\")\n",
    "plt.bar(xi, k, width=w, color='g', align='center', edgecolor=\"k\", label= \"Full Cov - Train\")\n",
    "plt.bar(xi, l, width=w, color='gold', align='center', edgecolor=\"k\", label= \"Full Cov - Test\")\n",
    "\n",
    "plt.xticks(xi, n_components)\n",
    "plt.ylabel(\"Log-likelihood\")\n",
    "plt.xlabel(\"Number of components\")\n",
    "plt.title(\"Avg. Log-likelihood per model for Language 0\")\n",
    "lgnd = plt.legend(bbox_to_anchor=(1, 1))\n",
    "\n",
    "plt.savefig(\"results/3_5.png\", bbox_extra_artists=[lgnd], bbox_inches=\"tight\")\n",
    "plt.show()"
   ]
  }
 ],
 "metadata": {
  "kernelspec": {
   "display_name": "Python 3",
   "language": "python",
   "name": "python3"
  },
  "language_info": {
   "codemirror_mode": {
    "name": "ipython",
    "version": 3
   },
   "file_extension": ".py",
   "mimetype": "text/x-python",
   "name": "python",
   "nbconvert_exporter": "python",
   "pygments_lexer": "ipython3",
   "version": "3.7.7"
  }
 },
 "nbformat": 4,
 "nbformat_minor": 4
}
